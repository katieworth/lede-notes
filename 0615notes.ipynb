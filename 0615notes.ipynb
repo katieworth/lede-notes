{
 "cells": [
  {
   "cell_type": "markdown",
   "metadata": {},
   "source": [
    "##Monday June 15 2015\n"
   ]
  },
  {
   "cell_type": "markdown",
   "metadata": {},
   "source": [
    "###Do Now Notes"
   ]
  },
  {
   "cell_type": "markdown",
   "metadata": {},
   "source": [
    "What is a **CSV?**\n",
    "\n",
    "A CSV is a comma separated variable\n",
    "\n",
    "but lots of things are saved as csvs that arent' actually separated by commas, they could be separated by other things, like a !! or a  |\n"
   ]
  },
  {
   "cell_type": "code",
   "execution_count": 1,
   "metadata": {
    "collapsed": false
   },
   "outputs": [
    {
     "name": "stdout",
     "output_type": "stream",
     "text": [
      "owner Jessica Goodman\n",
      "name Company LLC\n",
      "address 34 45th St\n"
     ]
    }
   ],
   "source": [
    "\n",
    "#2) What's the output of the following lines?\n",
    "\n",
    "company = { 'address': '34 45th St', 'name': 'Company LLC', 'owner': 'Jessica Goodman' }\n",
    "\n",
    "for key in company.keys():\n",
    "\tprint key, company[key]\n"
   ]
  },
  {
   "cell_type": "code",
   "execution_count": 6,
   "metadata": {
    "collapsed": false
   },
   "outputs": [
    {
     "data": {
      "text/plain": [
       "['Rogers Moving', 'Box Supplies Inc', 'n/a']"
      ]
     },
     "execution_count": 6,
     "metadata": {},
     "output_type": "execute_result"
    }
   ],
   "source": [
    "#3) Write a list comprehension to get the name of each of these companies.\n",
    "\n",
    "companies = [ { 'name': 'Rogers Moving', 'address': '44 34nd St' }, { 'name': 'Box Supplies Inc', 'address': '45 34th Ave' }, { 'name': 'n/a', 'address': 'unknown'} ] \n",
    " \n",
    "[company['name'] for company in companies]"
   ]
  },
  {
   "cell_type": "markdown",
   "metadata": {},
   "source": [
    "This is a list comprehension and therefore we need brackets around it. Also note that you use company['name'] not companies['name]\n",
    "                                                                                                                            "
   ]
  },
  {
   "cell_type": "code",
   "execution_count": 10,
   "metadata": {
    "collapsed": false
   },
   "outputs": [
    {
     "name": "stdout",
     "output_type": "stream",
     "text": [
      "Excellent work\n",
      "Easy\n"
     ]
    }
   ],
   "source": [
    "#) Given the variables rating and target, print \"Failed\" if we didn't meet the target, \"Success\" if we met or exceeded the target, and \"Excellent work\" if we did more than double the target. If the target is zero, though, also print \"Easy\".\n",
    "\n",
    "rating = 100\n",
    "target = 0\n",
    "\n",
    "if rating < target:\n",
    "    print \"Failed\"\n",
    "elif rating > 2*target:\n",
    "    print \"Excellent work\"\n",
    "else:\n",
    "    print \"Success\"\n",
    "if target == 0:\n",
    "    print \"Easy\""
   ]
  },
  {
   "cell_type": "code",
   "execution_count": 15,
   "metadata": {
    "collapsed": false
   },
   "outputs": [
    {
     "name": "stdout",
     "output_type": "stream",
     "text": [
      "49\n",
      "49\n"
     ]
    }
   ],
   "source": [
    "#5a) Given the following, write code to calculate how many murders we have in total.\n",
    "\n",
    "murders = { 'Albany': 23, 'Kings County': 10, 'Rochester': 7, 'Yonkers': 9 }\n",
    "\n",
    "#one way to do this is a forloop\n",
    "murdertotal = 0\n",
    "for key in murders.keys():\n",
    "    murdertotal = murdertotal+murders[key]\n",
    "print murdertotal\n",
    "    \n",
    "#a way easier way to do this is\n",
    "print sum(murders.values())\n"
   ]
  },
  {
   "cell_type": "markdown",
   "metadata": {},
   "source": [
    "\n",
    "You can also use for murder in murders, but it's b etter to use for keys in murders.keys()\n",
    "Always use .keys() at the end of  because otherwise you'll forget that you're handling a dictionary instead of a list\n"
   ]
  },
  {
   "cell_type": "code",
   "execution_count": null,
   "metadata": {
    "collapsed": true
   },
   "outputs": [],
   "source": []
  },
  {
   "cell_type": "code",
   "execution_count": 16,
   "metadata": {
    "collapsed": false
   },
   "outputs": [
    {
     "ename": "NameError",
     "evalue": "name 'murder' is not defined",
     "output_type": "error",
     "traceback": [
      "\u001b[1;31m---------------------------------------------------------------------------\u001b[0m",
      "\u001b[1;31mNameError\u001b[0m                                 Traceback (most recent call last)",
      "\u001b[1;32m<ipython-input-16-2aaabba1ece6>\u001b[0m in \u001b[0;36m<module>\u001b[1;34m()\u001b[0m\n\u001b[1;32m----> 1\u001b[1;33m \u001b[0mcounties\u001b[0m \u001b[1;33m=\u001b[0m \u001b[1;33m[\u001b[0m\u001b[0mmurder\u001b[0m\u001b[1;33m.\u001b[0m\u001b[0mkeys\u001b[0m\u001b[1;33m(\u001b[0m\u001b[1;33m)\u001b[0m\u001b[1;33m]\u001b[0m\u001b[1;33m\u001b[0m\u001b[0m\n\u001b[0m",
      "\u001b[1;31mNameError\u001b[0m: name 'murder' is not defined"
     ]
    }
   ],
   "source": [
    "counties = [murder.keys()]"
   ]
  },
  {
   "cell_type": "markdown",
   "metadata": {},
   "source": [
    "git is a version control system, or a vcs.\n",
    "it takes a snapshot or a backup of my code, you save things, but it saves it as a checkpoint, or a version, without deleting other versions.\n",
    "\n",
    "we are going to put together a git repository for all our notes. \n",
    "\n",
    "git hub is a few things all in one. \n",
    "\n",
    "It will hook up all your projects you have on your computer and lets you store them out in the cloud.\n",
    "This is good for group project, where you want collaborative editing, but instead of a spreadsheet it can \n",
    "\n",
    "you can have private repository if you're ashamed of the stuff you're writing or if they are trade secrets or something\n",
    "\n",
    "if you are ever going to get a job you need to put all your programming online, on github, even if you are super ashamed of what you are doing. Because it makes you seem involved int he community. \n",
    "\n",
    "Strangers can go onto your code and add something or contribute.\n",
    "\n",
    "Github is amazing and it's all about people getting together and collaborating\n",
    "\n",
    "Which is what happens in data journalism. It's not about scoops. In data journalism world you share and care and everyone is best friends all the time.\n",
    "\n",
    "There is an email list called the Nicar-L mailing list. All it is is a community of people asking each other how to do things. \n"
   ]
  }
 ],
 "metadata": {
  "kernelspec": {
   "display_name": "Python 2",
   "language": "python",
   "name": "python2"
  },
  "language_info": {
   "codemirror_mode": {
    "name": "ipython",
    "version": 2
   },
   "file_extension": ".py",
   "mimetype": "text/x-python",
   "name": "python",
   "nbconvert_exporter": "python",
   "pygments_lexer": "ipython2",
   "version": "2.7.9"
  }
 },
 "nbformat": 4,
 "nbformat_minor": 0
}

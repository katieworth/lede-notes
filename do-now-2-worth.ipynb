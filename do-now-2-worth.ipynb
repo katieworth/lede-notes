{
 "cells": [
  {
   "cell_type": "markdown",
   "metadata": {},
   "source": [
    "##do now 2 worth##\n",
    "###Reviewing: Variables, casting, if statements####\n"
   ]
  },
  {
   "cell_type": "code",
   "execution_count": 2,
   "metadata": {
    "collapsed": false
   },
   "outputs": [
    {
     "name": "stdout",
     "output_type": "stream",
     "text": [
      "25\n",
      "5\n",
      "catdog\n",
      "cat dog\n",
      "5 5\n"
     ]
    }
   ],
   "source": [
    "#1) Given the following code, what is the output?\n",
    "\n",
    "i = 5\n",
    "print 5 * 5\n",
    "#displays 25\n",
    "print i\n",
    "#displays 5\n",
    "print \"cat\" + \"dog\"\n",
    "#displays catdog\n",
    "print \"cat\", \"dog\"\n",
    "#displays cat dog\n",
    "print 5, 5\n",
    "#displays 5 5"
   ]
  },
  {
   "cell_type": "markdown",
   "metadata": {},
   "source": [
    "A **Variable** makes something represent something else. \n",
    "\n",
    "In this case i is the variable and it represents the integer 5. \n",
    "\n",
    "An **Integer** is something that the computer recognizes as a number\n",
    "\n",
    "Printing 5 * 5 will make 25 appear, because both of these are integers, so it's treating it as a number and doing the simple calculation\n",
    "\n",
    "Printing i will display 5 because you are asking it to print the variable i, which it knows to represent 5\n",
    "\n",
    "**String** is something that the computer recognizes as a jumble of letters and numbers whose meaning it doesn't give a shit about, it's just is going to print it or name it or label it that jumble.\n",
    "\n",
    "In this case the strings are cat and dog\n",
    "\n",
    "If you place a **plus sign + ** between two strings or variables (not between integers because it will assume you want to do a calcuation) it prints them together, no space between.\n",
    "\n",
    "so printing the strings \"cat\" + \"dog\" will give you catdog. printing \"cat\" + i would give you cat5\n",
    "\n",
    "If you place a **comma , ** between two strings, variables or integers it will print them with a space in between.\n",
    "\n",
    "SPECIAL NOTE: remember to put the comma on the outside of the quotes, which your fingers don't want to do after a lifetime of doing otherwise!\n",
    "\n",
    "So printing \"cat\", \"dog\" will give you cat dog."
   ]
  },
  {
   "cell_type": "code",
   "execution_count": 11,
   "metadata": {
    "collapsed": false
   },
   "outputs": [],
   "source": [
    "\n",
    "#2a) The code below doesn't work. Why not?\n",
    "\n",
    "#print 5 + \"5\"\n",
    "#output TypeError: unsupported operand type(s) for +: 'int' and 'str'\n",
    "\n"
   ]
  },
  {
   "cell_type": "raw",
   "metadata": {},
   "source": [
    "Printing `5 + \"5\"` doesn't work because it sees 5 as an integer and since it's an integer followed by a plus sign, it wants to add it up. However, \"5\" is a string, which is just gobbledegook to the computer, so it can't add it. So you get a type error that tels you it cannot add an int and a str."
   ]
  },
  {
   "cell_type": "code",
   "execution_count": 5,
   "metadata": {
    "collapsed": false
   },
   "outputs": [
    {
     "name": "stdout",
     "output_type": "stream",
     "text": [
      "10\n",
      "55\n",
      "5 5\n"
     ]
    }
   ],
   "source": [
    "\n",
    "#2b) There are several ways to make it work! Give two possible changes and what the output would be in each case.\n",
    "\n",
    "print 5 + int(\"5\")\n",
    "#output 10\n",
    "print str(5) + \"5\"\n",
    "#output 55\n",
    "print 5, \"5\"\n",
    "#output 5 5\n",
    "\n",
    "\n"
   ]
  },
  {
   "cell_type": "markdown",
   "metadata": {},
   "source": [
    "You can change a string into an integer with int`(\"\")`\n",
    "\n",
    "You can change an integer into a string with `str()`\n",
    "\n",
    "Also, if you want to do math with it that might include fractions or decimal places you can do `float()`, which gives it a decimal place"
   ]
  },
  {
   "cell_type": "code",
   "execution_count": null,
   "metadata": {
    "collapsed": true
   },
   "outputs": [],
   "source": [
    "\n",
    "#3) What is wrong with the following if statement?\n",
    "\n",
    "#if n = 2:\n",
    "#  print \"Two\"\n",
    "\n"
   ]
  },
  {
   "cell_type": "markdown",
   "metadata": {},
   "source": [
    "This statement needs two equal signs. ALL IF STATEMENTS NEED TWO EQUAL SIGNS!!!!!\n"
   ]
  },
  {
   "cell_type": "code",
   "execution_count": 10,
   "metadata": {
    "collapsed": false
   },
   "outputs": [
    {
     "name": "stdout",
     "output_type": "stream",
     "text": [
      "-5\n",
      "G\n",
      "H\n"
     ]
    }
   ],
   "source": [
    "\n",
    "#4) Given the following code, what would the output be for n = 0, 10, -1, 3, and -5?\n",
    "\n",
    "n = -5\n",
    "print n\n",
    "if n > 0:\n",
    "    print \"A\"\n",
    "    if n >= 3:\n",
    "        print \"B\"\n",
    "        print \"C\"\n",
    "    elif n > 2:\n",
    "        print \"D\"\n",
    "    else:\n",
    "        print \"E\"\n",
    "elif 1 > n > -2:\n",
    "    print \"F\"\n",
    "else:\n",
    "    print \"G\"\n",
    "if n < 5:\n",
    "    print \"H\"\n",
    "    \n",
    "#n = 0\n",
    "#displays 0 F H\n",
    "#n = 10\n",
    "#displays 10 A B C \n",
    "#n = -1\n",
    "#displays -1 F H\n",
    "#n = 3\n",
    "#displays 3 A B C H\n",
    "#n = -5\n",
    "#displays -5 G H\n"
   ]
  },
  {
   "cell_type": "markdown",
   "metadata": {},
   "source": [
    "This is a series of if statements. For each number it starts at the top and asks itself each statement about n.\n",
    "\n",
    "You can put several if statements together, and nest them, and make python do things with them. \n",
    "\n",
    "INDENTING IS VERY IMPORTANT HERE. You can nest an if statement within another if statement with indentation.\n",
    "\n",
    "**if** is the initial question -- python determines if this is true.\n",
    "\n",
    "**elif** means if that thing above was not true, but this other thing is true, here's what you do\n",
    "\n",
    "**else** means, if none of those things are true, do this.\n"
   ]
  }
 ],
 "metadata": {
  "kernelspec": {
   "display_name": "Python 2",
   "language": "python",
   "name": "python2"
  },
  "language_info": {
   "codemirror_mode": {
    "name": "ipython",
    "version": 2
   },
   "file_extension": ".py",
   "mimetype": "text/x-python",
   "name": "python",
   "nbconvert_exporter": "python",
   "pygments_lexer": "ipython2",
   "version": "2.7.9"
  }
 },
 "nbformat": 4,
 "nbformat_minor": 0
}

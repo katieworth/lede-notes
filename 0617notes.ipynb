{
 "cells": [
  {
   "cell_type": "markdown",
   "metadata": {},
   "source": [
    "Do Now\n",
    "Wednesday, June 18, 2015\n",
    "\n",
    "Reviewing: Google Refine, git, counting things\n",
    "\n",
    "1a) What does Refine call searching for text in a column?\n",
    "\n",
    "Filter\n",
    "\n",
    "1b) What does Refine call examining all the values that appear in a column?\n",
    "\n",
    "**Facets** -- sp`ecifically Text Facets\n",
    "\n",
    "2) When you add a new file into the folder you're tracking with `git`, it doesn't get automatically placed into the repository. What's the command to make that happen?\n",
    "\n",
    "`git add filename.ipynb`\n",
    "\n",
    "3) There are two more steps to go through with the file. One saves your changes to the repo, one sends them up to GitHub. What are they?\n",
    "\n",
    "`git commit -m \"Here is a message\"` to save your changes to the repository (like a checkpoint)\n",
    "\n",
    "`git push` to send it up to Github\n",
    "\n",
    "`git push -u origin master` the first time, but after that, the `-u` saves it. \n",
    "\n",
    "\n",
    "[ { 'company': 'ExxonMobil', 'fine': 4500, 'date': '2011-01-02' },\n",
    "{ 'company':'BP', 'fine': 320, 'date': '2012-02-12' },\n",
    "{ 'company': 'ExxonMobil', 'fine': 7200, 'date': '2012-04-09' },\n",
    "{ 'company': 'Chevron', 'fine': 80000, 'date': '2011-01-02' } ]\n",
    "\n",
    "4) What's the data type of the above?\n",
    "\n",
    "5) Count the number of times Chevron appears in the list. Tip: list comprehensions are your friend\n",
    "\n",
    "6) Sum up the fines that were from ExxonMobil. Tip: You can put conditions in a list comprehension! See the rather confusing but possibly helpful code below.\n",
    "\n",
    "num = [1, 2, 3, 4]\n",
    "[num * 2 for num in numbers if num > 2]\n",
    "\n",
    "This will create the list [6, 8]\n",
    "\n"
   ]
  },
  {
   "cell_type": "code",
   "execution_count": 6,
   "metadata": {
    "collapsed": false
   },
   "outputs": [
    {
     "data": {
      "text/plain": [
       "1"
      ]
     },
     "execution_count": 6,
     "metadata": {},
     "output_type": "execute_result"
    }
   ],
   "source": [
    "companies = [ { 'company': 'ExxonMobil', 'fine': 4500, 'date': '2011-01-02' },\n",
    "{ 'company':'BP', 'fine': 320, 'date': '2012-02-12' },\n",
    "{ 'company': 'ExxonMobil', 'fine': 7200, 'date': '2012-04-09' },\n",
    "{ 'company': 'Chevron', 'fine': 80000, 'date': '2011-01-02' } ]\n",
    "\n",
    "company_names=[comp['company'] for comp in companies]\n",
    "\n",
    "company_names.count(\"Chevron\")\n"
   ]
  },
  {
   "cell_type": "code",
   "execution_count": 13,
   "metadata": {
    "collapsed": false
   },
   "outputs": [
    {
     "name": "stdout",
     "output_type": "stream",
     "text": [
      "1\n"
     ]
    }
   ],
   "source": [
    "chev = [comp['company'] for comp in companies if comp['company'] == 'Chevron']\n",
    "print len(chev)"
   ]
  },
  {
   "cell_type": "code",
   "execution_count": 15,
   "metadata": {
    "collapsed": false
   },
   "outputs": [
    {
     "name": "stdout",
     "output_type": "stream",
     "text": [
      "11700\n"
     ]
    }
   ],
   "source": [
    "fines = [comp['fine'] for comp in companies if comp['company'] == 'ExxonMobil']\n",
    "print sum(fines)"
   ]
  },
  {
   "cell_type": "code",
   "execution_count": null,
   "metadata": {
    "collapsed": true
   },
   "outputs": [],
   "source": []
  }
 ],
 "metadata": {
  "kernelspec": {
   "display_name": "Python 2",
   "language": "python",
   "name": "python2"
  },
  "language_info": {
   "codemirror_mode": {
    "name": "ipython",
    "version": 2
   },
   "file_extension": ".py",
   "mimetype": "text/x-python",
   "name": "python",
   "nbconvert_exporter": "python",
   "pygments_lexer": "ipython2",
   "version": "2.7.9"
  }
 },
 "nbformat": 4,
 "nbformat_minor": 0
}

{
 "cells": [
  {
   "cell_type": "markdown",
   "metadata": {},
   "source": [
    "#Katie Worth\n",
    "##do now 3 worth##\n",
    "###Reviewing: Variables, casting, if statements####"
   ]
  },
  {
   "cell_type": "markdown",
   "metadata": {},
   "source": [
    "\n",
    "1) What two errors can you spot below?\n",
    "\n",
    "n = 2;\n",
    "if n < 2:\n",
    "  print \"Small\"\n",
    "elif n = 2:\n",
    "  print \"Medium\"\n",
    "else print \"Large\""
   ]
  },
  {
   "cell_type": "markdown",
   "metadata": {},
   "source": [
    "There are THREE PROBLEMS in this\n",
    "1) there is a semicolon after n = 2\n",
    "there should be nothing. It is just a statement, does not need punctuation.\n",
    "2) elif needs two equal signs after it\n",
    "BECAUSE EVERY IF STATEMENT ALWAYS NEEDS TWO EQUAL SIGNS AFTER IT!\n",
    "3) else needs a colon after it\n",
    "BECAUSE EVERY IF ELIF and ELSE STATEMENT NEED COLONS AFTER THEM\n",
    "Else captures all other possibilities so it can just be else:"
   ]
  },
  {
   "cell_type": "markdown",
   "metadata": {},
   "source": [
    "2) Given the following code, '11238' is a _____ and 23 is a _________.\n",
    "\n",
    "{ '11238': 23, '10011': 47 }\n",
    "\n",
    "11238 is a KEY\n",
    "and\n",
    "23 is a VALUE"
   ]
  },
  {
   "cell_type": "markdown",
   "metadata": {},
   "source": [
    "This is a dictionary. We know that becuase it has curly brackets { }\n",
    "\n",
    "The two things in a dictionary are **KEYS** AND **VALUES**\n",
    "\n",
    "A **key** is the what's in front of the colon. In the above example the keys would be 11238 AND 10011\n",
    "\n",
    "A **value** is the thing associated with the key, behind the colon. Above, they are 23 AND 47\n",
    "\n",
    "IMPORTANT RULE: You can ONLY LOOK UP VALUES FROM KEYS, YOU CANNOT LOOK UP KEYS FROM VALUES!!!\n"
   ]
  },
  {
   "cell_type": "code",
   "execution_count": 14,
   "metadata": {
    "collapsed": false
   },
   "outputs": [
    {
     "name": "stdout",
     "output_type": "stream",
     "text": [
      "{'high': 66, 'appearance': 'cloudy', 'low': 54}\n"
     ]
    }
   ],
   "source": [
    "#3) How would you add a 'low' of 54 to the following dictionary?\n",
    "\n",
    "weather = { 'high': 66, 'appearance': 'cloudy' }\n",
    "\n",
    "weather['low'] = 54\n",
    "print weather\n"
   ]
  },
  {
   "cell_type": "markdown",
   "metadata": {},
   "source": [
    "**You can add things to a dictionary easy peasy, all you need is the dictionary name, the key you want, and the value you want.** \n",
    "\n",
    "FOR EXAMPLE: If you wanna make dictionary named dict, and you want to add key and value, you do this:\n",
    "\n",
    "`dict = {}`\n",
    "`dict[key] = value`\n",
    "\n",
    "and the output for \"print dict\" would be:\n",
    "\n",
    "`{key: value}`"
   ]
  },
  {
   "cell_type": "code",
   "execution_count": 3,
   "metadata": {
    "collapsed": false
   },
   "outputs": [
    {
     "name": "stdout",
     "output_type": "stream",
     "text": [
      "28\n",
      "7\n"
     ]
    }
   ],
   "source": [
    "#4) How can we easily get the total of the list below? How about a count of how many elements are in the list?\n",
    "\n",
    "numbers = [ 1, 2, 3, 4, 5, 6, 7]\n",
    "\n",
    "# you can get the sum with the function sum\n",
    "print sum(numbers)\n",
    "# you can find the number of elements in the list with the function len()\n",
    "print len(numbers)\n"
   ]
  },
  {
   "cell_type": "markdown",
   "metadata": {},
   "source": [
    "Functions allow you to do something to a list temporarily. It doesn't change the original list, just sends the original list to a factory, gets the output, and sends it back.\n",
    "\n",
    "This function for a sum is called `sum()`\n",
    "The function to get the number of elements in a list is `len()`\n"
   ]
  },
  {
   "cell_type": "code",
   "execution_count": null,
   "metadata": {
    "collapsed": true
   },
   "outputs": [],
   "source": [
    "\n",
    "#5) Print the 3rd element of a list named dogs. \n",
    "\n",
    "print dogs(2)"
   ]
  },
  {
   "cell_type": "markdown",
   "metadata": {},
   "source": [
    "To get a particular item back from a list, you just tell it the number you want - minus one.\n",
    "\n",
    "This is because of the **off by one error** which is because computers start counting at zero. People hate this but it still happens. It is the bane of our very comfortable existances. \n",
    "\n",
    "So to get the fourth item back from a list you do this:\n",
    "\n",
    "`list = [\"a\", \"b\", \"c\", \"d\", \"e\", \"f\"]`\n",
    "\n",
    "`print list[3]`\n"
   ]
  },
  {
   "cell_type": "code",
   "execution_count": 6,
   "metadata": {
    "collapsed": false
   },
   "outputs": [
    {
     "name": "stdout",
     "output_type": "stream",
     "text": [
      "['11238', '10011']\n",
      "[23, 10]\n"
     ]
    }
   ],
   "source": [
    "#5a) Given the following dictionary, how can we get a list of all three ZIP codes?\n",
    "\n",
    "data = { '11238': 23, '10011': 47, '10011': 10 }\n",
    "\n",
    "print data.keys()\n",
    "print data.values()\n",
    "\n",
    "zipcode = []\n",
    "data = { '11238': 23, '10011': 47, '10011': 10 }\n",
    "for dat in data:\n",
    "    zipcode.append(dat)\n",
    "print zipcode\n"
   ]
  },
  {
   "cell_type": "markdown",
   "metadata": {},
   "source": [
    "One way to print all the keys from a dictionary is to use the method `.keys`\n",
    "\n",
    "To actually make a list you need to create an empty list `(zipcode = [])`\n",
    "then do a for loop and append each key to the list using the append method.\n",
    "The for loop goes through each key in data and it appends it to the list. \n"
   ]
  },
  {
   "cell_type": "code",
   "execution_count": 12,
   "metadata": {
    "collapsed": false
   },
   "outputs": [
    {
     "name": "stdout",
     "output_type": "stream",
     "text": [
      "11238\n",
      "10011\n"
     ]
    }
   ],
   "source": [
    "#5b) Write a for loop that prints all three zip codes on separate lines. \n",
    "\n",
    "data = { '11238': 23, '10011': 47, '10011': 10 }\n",
    "for dat in data:\n",
    "    print dat"
   ]
  },
  {
   "cell_type": "markdown",
   "metadata": {},
   "source": [
    "This is a for loop that tells python to go through each thing in the dictionary and print the key (which we can name dat, or tomato soup, or whatever)\n",
    "\n",
    "However, I'm confused about how to get all three to print , since two are the same!"
   ]
  },
  {
   "cell_type": "code",
   "execution_count": 13,
   "metadata": {
    "collapsed": false
   },
   "outputs": [
    {
     "name": "stdout",
     "output_type": "stream",
     "text": [
      "149\n"
     ]
    }
   ],
   "source": [
    "#6) Given the following list, add together any numbers greater than 10.\n",
    "\n",
    "bigvalue = []\n",
    "values = [20, 30 ,10, 5, 99]\n",
    "for value in values:\n",
    "    if value > 10:\n",
    "        bigvalue.append(value)\n",
    "print sum(bigvalue)\n"
   ]
  },
  {
   "cell_type": "markdown",
   "metadata": {},
   "source": [
    "In **for-loops**, you're telling the program to go through each item in a list or dictionary and check for something or do something to it. \n",
    "\n",
    "For loops can be nested. The first for will tell you to look for a key in that list/dictionary, and then you go to the next for loop and look for each instance of that key in the second list/dictionary \n",
    "\n",
    "Usually before a for loop you need to specify an initial result. This is basically telling python what you're starting out with, A lot of times it's like, **n = 0.** Or if you're trying to make another list, you start out with an empty list, like **list = [] **\n",
    "\n",
    "In order to sum the large values, I made a separate list of bigvalues. I needed to create that list and make that list empty to begin with, hence the `bigvalue = []`\n",
    "\n",
    "Then, I summed everything on that list. \n",
    "\n",
    "Indentation is extremely important in for-loops, because it's telling you what to do when -- it's an order of operations. The sum is not indengted here, because otherwise it would not give me a final value.\n"
   ]
  }
 ],
 "metadata": {
  "kernelspec": {
   "display_name": "Python 2",
   "language": "python",
   "name": "python2"
  },
  "language_info": {
   "codemirror_mode": {
    "name": "ipython",
    "version": 2
   },
   "file_extension": ".py",
   "mimetype": "text/x-python",
   "name": "python",
   "nbconvert_exporter": "python",
   "pygments_lexer": "ipython2",
   "version": "2.7.9"
  }
 },
 "nbformat": 4,
 "nbformat_minor": 0
}

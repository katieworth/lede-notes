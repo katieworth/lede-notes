{
 "cells": [
  {
   "cell_type": "markdown",
   "metadata": {},
   "source": [
    "# Katie Worth\n",
    "## Do Now 4 worth\n",
    "#### Reviewing dictionaries, lists, csvs"
   ]
  },
  {
   "cell_type": "code",
   "execution_count": 1,
   "metadata": {
    "collapsed": false
   },
   "outputs": [
    {
     "name": "stdout",
     "output_type": "stream",
     "text": [
      "c\n"
     ]
    }
   ],
   "source": [
    "#1) Print the 3rd element of a list called dogs.\n",
    "\n",
    "print dogs[2]\n"
   ]
  },
  {
   "cell_type": "markdown",
   "metadata": {},
   "source": [
    "See how we cleverly avoided the off by one error by subtracting one from the element we wanted."
   ]
  },
  {
   "cell_type": "code",
   "execution_count": 6,
   "metadata": {
    "collapsed": false
   },
   "outputs": [
    {
     "name": "stdout",
     "output_type": "stream",
     "text": [
      "1 green\n",
      "2 green\n",
      "3 green\n",
      "4 green\n",
      "1 blue\n",
      "2 blue\n",
      "3 blue\n",
      "4 blue\n"
     ]
    }
   ],
   "source": [
    "#2) What is the output of the following code?\n",
    "\n",
    "numbers = [ 1, 2, 3, 4]\n",
    "colors = [ \"green\", \"blue\" ]\n",
    "for color in colors:\n",
    "    for number in numbers:\n",
    "        print number, color\n",
    "        \n",
    "#displays:\n",
    "# 1 green \n",
    "# 2 green\n",
    "# 3 green\n",
    "# 4 green\n",
    "# 1 blue\n",
    "# 2 blue\n",
    "# 3 blue\n",
    "# 4 blue"
   ]
  },
  {
   "cell_type": "markdown",
   "metadata": {},
   "source": [
    "This is a **nested for-loop**, so first it's going through each color, since that's the first for loop, and for each color it is going through each number, and then printing the # and color on a separate line\n",
    "\n",
    "Please note how we cleverly indented it all so it's clear what is ordered first, and when we want to print"
   ]
  },
  {
   "cell_type": "code",
   "execution_count": null,
   "metadata": {
    "collapsed": true
   },
   "outputs": [],
   "source": [
    "#3) What command would you use to get the first 100 lines of data.csv, and save it into a new file named sample.csv?\n",
    "\n",
    "head -100 'data.csv' > 'sample.csv'"
   ]
  },
  {
   "cell_type": "markdown",
   "metadata": {},
   "source": [
    "`head` will automatically give you the top 10 lines, but head -n will get you the top n lines. \n",
    "\n",
    "and then you can make that into a new file using a greater than symbol and then creating a new name. \n",
    "\n",
    "Please note that the names of the files must be in quotes!\n"
   ]
  },
  {
   "cell_type": "code",
   "execution_count": null,
   "metadata": {
    "collapsed": true
   },
   "outputs": [],
   "source": [
    "# This is a view of the file lists.csv, used for the questions below\n",
    "# make\tyear\tcolor\n",
    "# Chevrolet\t2011\tblack\n",
    "# Honda\t2010\tred\n",
    "# Honda\t2013\tblack\n",
    "# Toyota\t2001\tgold\n",
    "\n",
    "# 4) What is missing from the lines below? (It isn't 100% necessary, but we use it for convenience)\n",
    "\n",
    "# file = open(\"lists.csv\")\n",
    "# cars = csv.DictReader(file)\n",
    "\n",
    "#It should read: \n",
    "\n",
    "# import csv\n",
    "# file = open(\"lists.csv\")\n",
    "# cars = list(csv.DictReader(file))\n",
    "\n",
    "#This will make a list of dictionaries like that looks like this:\n",
    "    \n",
    "cars = [\n",
    "{ make: Chevrolet, year: 2011, color: black }\n",
    "{ make: Honda, year: 2010, color: red }\n",
    "{ make: Honda, year: 2013, color: black }\n",
    "{ make: Toyota, year: 2001, color: gold }\n",
    "]"
   ]
  },
  {
   "cell_type": "markdown",
   "metadata": {},
   "source": [
    "We add the `list()` in order to make it a list of dictionaries, since these are easier for us to work with."
   ]
  },
  {
   "cell_type": "code",
   "execution_count": 11,
   "metadata": {
    "collapsed": false
   },
   "outputs": [
    {
     "name": "stdout",
     "output_type": "stream",
     "text": [
      "8035\n"
     ]
    }
   ],
   "source": [
    "#5) Write a for loop to add up all of the years. Save it to a variable called total.\n",
    "   \n",
    "cars = [\n",
    "{ 'make': 'Chevrolet', 'year': 2011, 'color': 'black' },\n",
    "{'make': 'Honda', 'year': 2010, 'color': 'red'},\n",
    "{'make': 'Honda', 'year': 2013, 'color': 'black' },\n",
    "{'make': 'Toyota', 'year': 2001, 'color': 'gold' }\n",
    "]\n",
    "\n",
    "total = 0\n",
    "for car in cars:\n",
    "    total = total + car['year']\n",
    "print total"
   ]
  },
  {
   "cell_type": "markdown",
   "metadata": {},
   "source": [
    "We start by defining total as 0 `total = 0`\n",
    "then for each car, we add that car's year to the total\n",
    "then at the end we print total. we don't indent because we want the final total, not the iterated total.\n"
   ]
  },
  {
   "cell_type": "code",
   "execution_count": 13,
   "metadata": {
    "collapsed": false
   },
   "outputs": [
    {
     "name": "stdout",
     "output_type": "stream",
     "text": [
      "[{'color': 'black', 'make': 'Chevrolet', 'year': 2011}, {'color': 'black', 'make': 'Honda', 'year': 2013}]\n"
     ]
    }
   ],
   "source": [
    "#6) I'd like a new list called favorites that includes all cars that are black or produced after 2010. Write a for loop to create this list.\n",
    "#Tip: You can join things in if statements using and and or, like n > 3 or name == \"Peter\"\n",
    "\n",
    "favorites = []\n",
    "for car in cars:\n",
    "    if car['color']== 'black' or car['year'] > 2010:\n",
    "        favorites.append(car)\n",
    "print favorites\n"
   ]
  },
  {
   "cell_type": "markdown",
   "metadata": {},
   "source": [
    "We loop through cars and see if either of those conditions can be met. If they can, then we append the item (in this case a whole dictionary) to a new list, and print that list.,"
   ]
  },
  {
   "cell_type": "code",
   "execution_count": null,
   "metadata": {
    "collapsed": true
   },
   "outputs": [],
   "source": []
  }
 ],
 "metadata": {
  "kernelspec": {
   "display_name": "Python 2",
   "language": "python",
   "name": "python2"
  },
  "language_info": {
   "codemirror_mode": {
    "name": "ipython",
    "version": 2
   },
   "file_extension": ".py",
   "mimetype": "text/x-python",
   "name": "python",
   "nbconvert_exporter": "python",
   "pygments_lexer": "ipython2",
   "version": "2.7.9"
  }
 },
 "nbformat": 4,
 "nbformat_minor": 0
}

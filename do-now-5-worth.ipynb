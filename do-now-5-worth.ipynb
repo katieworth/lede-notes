{
 "cells": [
  {
   "cell_type": "markdown",
   "metadata": {},
   "source": [
    "# Katie Worth\n",
    "## Do Now 5 worth\n",
    "#### reviewing: dictionaries, lists, CSVs\n"
   ]
  },
  {
   "cell_type": "code",
   "execution_count": null,
   "metadata": {
    "collapsed": true
   },
   "outputs": [],
   "source": [
    "\n",
    "#1) What's the output of the following lines?\n",
    "\n",
    "name = \"Max\"\n",
    "print \"hello\", \"name\"\n",
    "print \"hello\", name\n",
    "\n",
    "#output is \n",
    "# hello name\n",
    "# hello Max"
   ]
  },
  {
   "cell_type": "markdown",
   "metadata": {},
   "source": [
    "This is reminding us of the difference between variables and strings. the first output is \"name\" because it's in quotes and therefore is a string. the second output is \"Max\" because we have defined the variable name as \"Max\", and therefore Max gets substitutde for name.\n"
   ]
  },
  {
   "cell_type": "code",
   "execution_count": 10,
   "metadata": {
    "collapsed": false
   },
   "outputs": [
    {
     "name": "stdout",
     "output_type": "stream",
     "text": [
      "Manhattan\n"
     ]
    }
   ],
   "source": [
    "#2) What is the output of the following code? Which lines give you errors?\n",
    "\n",
    "borough_name = 'Manhattan'\n",
    "z = [ 'Manhattan', 'Queens' ]\n",
    "x = { 'borough_name': 'Manhattan', 'population': 500 }\n",
    "y = {\n",
    "'Manhattan': 500,\n",
    "'Queens': 200\n",
    "}\n",
    "\n",
    "\n",
    "# print x['borough_name']\n",
    "# Output is Manhattan, because python recognizes 'borough_name' as a key in x\n",
    "\n",
    "# print x[borough_name]\n",
    "# Output is an error message, because the variable borough_name is defined as 'Manhattan' and there is no key in x called 'manhattan.'\n",
    "\n",
    "# print x[0]\n",
    "# Output is an error message, because x is a dictionary, not a list, and therefore it is not ordered and does not know what you want from it with 0\n",
    "\n",
    "# print y['borough_name']\n",
    "# OUtput is an error message because we there is no key called 'boroughn name' in Y\n",
    "\n",
    "# print y[borough_name]\n",
    "# Output is 500 because we have defined the variable borough_name as 'Manhattan', and the value associated with 'Manhattan in Y is 500.\n",
    "\n",
    "# print y[0]\n",
    "# Output is an error message, because y is a dictionary, not a list, and therefore it is not ordered and does not know what you want from it with 0\n",
    "\n",
    "# print z['borough_name']\n",
    "# Output is an error message because this is a list and you are trying to call up a key with this.\n",
    "\n",
    "# print z[borough_name]\n",
    "# Output is an error message because this is a list and you are trying to call up a key with this.\n",
    "\n",
    "# print z[0]\n",
    "# Output is 'Manhattan' because it's the first item on the list.\n"
   ]
  },
  {
   "cell_type": "markdown",
   "metadata": {},
   "source": [
    "This exercise is getting us to understand how variables work, and how you call up keys versus variables in dictionaries, and the differences between dictionaries and lists. "
   ]
  },
  {
   "cell_type": "code",
   "execution_count": 12,
   "metadata": {
    "collapsed": false
   },
   "outputs": [
    {
     "name": "stdout",
     "output_type": "stream",
     "text": [
      "[2, 4, 6, 7, 8, 4]\n"
     ]
    }
   ],
   "source": [
    "#3) We have a list called numbers, but we had an off-by-one error: add one to every element of the list, \n",
    "#then sum the results. Do this in one line.\n",
    "\n",
    "numbers = [1,3,5,6,7,3]\n",
    "print [number+1 for number in numbers]\n"
   ]
  },
  {
   "cell_type": "markdown",
   "metadata": {},
   "source": [
    "**list comprehensions** are a way to do a thing to everything in a list all at once using a for-loop. you put the thing you want to do to each item at the front of the list comprehension and then the for-loop"
   ]
  },
  {
   "cell_type": "code",
   "execution_count": 22,
   "metadata": {
    "collapsed": false
   },
   "outputs": [
    {
     "name": "stdout",
     "output_type": "stream",
     "text": [
      "49\n"
     ]
    }
   ],
   "source": [
    "#4a) Given the following, write code to calculate how many murders we have in total.\n",
    "\n",
    "murders = { 'Albany': 23, 'Kings County': 10, 'Rochester': 7, 'Yonkers': 9 }\n",
    "\n",
    "print sum(murders.values())\n",
    "\n",
    "    "
   ]
  },
  {
   "cell_type": "markdown",
   "metadata": {},
   "source": [
    "We pull out all the values of the dictionary and then sum them."
   ]
  },
  {
   "cell_type": "code",
   "execution_count": 26,
   "metadata": {
    "collapsed": false
   },
   "outputs": [
    {
     "name": "stdout",
     "output_type": "stream",
     "text": [
      "20.41\n"
     ]
    }
   ],
   "source": [
    "#4b) Write code to calculate the percentage of the murders happened in Kings County.\n",
    "\n",
    "print round(float(murders['Kings County'])/float(sum(murders.values()))*100.0,2)\n",
    "\n"
   ]
  },
  {
   "cell_type": "markdown",
   "metadata": {},
   "source": [
    "Here we are using a bunch of functions in concert. First we pull out the number of murders in Kings County, and we divide it by the sum total we got in the last question. Then we float each of them to make them be able to do decimal points like regular numbers. Then, of course, we multiply it by 100 to get percentages. And since we don't need all the niggling little decimals we round it to 2 decimals."
   ]
  }
 ],
 "metadata": {
  "kernelspec": {
   "display_name": "Python 2",
   "language": "python",
   "name": "python2"
  },
  "language_info": {
   "codemirror_mode": {
    "name": "ipython",
    "version": 2
   },
   "file_extension": ".py",
   "mimetype": "text/x-python",
   "name": "python",
   "nbconvert_exporter": "python",
   "pygments_lexer": "ipython2",
   "version": "2.7.9"
  }
 },
 "nbformat": 4,
 "nbformat_minor": 0
}
